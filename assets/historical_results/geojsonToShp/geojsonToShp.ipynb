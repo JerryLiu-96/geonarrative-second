{
 "cells": [
  {
   "cell_type": "code",
   "execution_count": 1,
   "metadata": {},
   "outputs": [],
   "source": [
    "import geopandas as gpd\n",
    "import os"
   ]
  },
  {
   "cell_type": "code",
   "execution_count": 5,
   "metadata": {},
   "outputs": [],
   "source": [
    "input_folder = '../shade_area'\n",
    "output_folder = '../shp_shade_area'"
   ]
  },
  {
   "cell_type": "code",
   "execution_count": 6,
   "metadata": {},
   "outputs": [],
   "source": [
    "os.makedirs(output_folder, exist_ok=True)"
   ]
  },
  {
   "cell_type": "code",
   "execution_count": 7,
   "metadata": {},
   "outputs": [
    {
     "name": "stdout",
     "output_type": "stream",
     "text": [
      "Converted enclosed_1954.geojson to shapefile in ../shp_shade_area/enclosed_1954\n",
      "Converted enclosed_1986.geojson to shapefile in ../shp_shade_area/enclosed_1986\n",
      "Converted enclosed_1911.geojson to shapefile in ../shp_shade_area/enclosed_1911\n",
      "Converted enclosed_1860.geojson to shapefile in ../shp_shade_area/enclosed_1860\n",
      "Converted enclosed_1967.geojson to shapefile in ../shp_shade_area/enclosed_1967\n",
      "Converted enclosed_1942.geojson to shapefile in ../shp_shade_area/enclosed_1942\n",
      "Converted enclosed_1974.geojson to shapefile in ../shp_shade_area/enclosed_1974\n",
      "All GeoJSON files have been converted to shapefiles in separate folders.\n"
     ]
    }
   ],
   "source": [
    "# Loop through all files in the input folder\n",
    "for filename in os.listdir(input_folder):\n",
    "    if filename.endswith(\".geojson\"):\n",
    "        # Full path to the GeoJSON file\n",
    "        geojson_path = os.path.join(input_folder, filename)\n",
    "\n",
    "        # Load the GeoJSON file with GeoPandas\n",
    "        data = gpd.read_file(geojson_path)\n",
    "\n",
    "        # Create a subfolder for each shapefile within the output folder\n",
    "        shapefile_folder_name = filename.replace(\".geojson\", \"\")\n",
    "        shapefile_folder_path = os.path.join(output_folder, shapefile_folder_name)\n",
    "        os.makedirs(shapefile_folder_path, exist_ok=True)\n",
    "\n",
    "        # Define the path for the .shp file inside the new subfolder\n",
    "        shapefile_path = os.path.join(shapefile_folder_path, shapefile_folder_name + \".shp\")\n",
    "\n",
    "        # Save as a shapefile (this will generate .shp, .shx, .dbf, and .prj files in the subfolder)\n",
    "        data.to_file(shapefile_path, driver=\"ESRI Shapefile\")\n",
    "\n",
    "        print(f\"Converted {filename} to shapefile in {shapefile_folder_path}\")\n",
    "\n",
    "print(\"All GeoJSON files have been converted to shapefiles in separate folders.\")"
   ]
  }
 ],
 "metadata": {
  "kernelspec": {
   "display_name": "Python 3",
   "language": "python",
   "name": "python3"
  },
  "language_info": {
   "codemirror_mode": {
    "name": "ipython",
    "version": 3
   },
   "file_extension": ".py",
   "mimetype": "text/x-python",
   "name": "python",
   "nbconvert_exporter": "python",
   "pygments_lexer": "ipython3",
   "version": "3.10.8"
  }
 },
 "nbformat": 4,
 "nbformat_minor": 2
}
